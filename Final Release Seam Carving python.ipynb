{
 "cells": [
  {
   "cell_type": "code",
   "execution_count": 1,
   "id": "d84cb767",
   "metadata": {},
   "outputs": [],
   "source": [
    "%load_ext Cython"
   ]
  },
  {
   "cell_type": "code",
   "execution_count": 2,
   "id": "1eb99f7e",
   "metadata": {},
   "outputs": [],
   "source": [
    "%%cython\n",
    "import numpy as np\n",
    "\n",
    "def minimumVerticalSeam(img, pixelsEnergy):\n",
    "    rows = img.shape[0]\n",
    "    columns = img.shape[1]\n",
    "    \n",
    "    seamEnergy = pixelsEnergy.copy()\n",
    "    backtrack = np.zeros_like(seamEnergy, dtype=int) \n",
    "\n",
    "    for i in range(1, rows):\n",
    "        for j in range(0, columns):\n",
    "            if j == 0:\n",
    "                idx = np.argmin(seamEnergy[i - 1, j:j + 1])\n",
    "                backtrack[i, j] = idx + j\n",
    "                minEnergy = seamEnergy[i - 1, idx + j]\n",
    "            elif j == columns - 1:\n",
    "                idx = np.argmin(seamEnergy[i - 1, j - 1 :j])\n",
    "                backtrack[i, j] = idx + j - 1\n",
    "                minEnergy = seamEnergy[i - 1, idx + j - 1]\n",
    "            else:\n",
    "                idx = np.argmin(seamEnergy[i - 1, j - 1:j + 1])\n",
    "                backtrack[i, j] = idx + j - 1\n",
    "                minEnergy = seamEnergy[i - 1, idx + j - 1]\n",
    "\n",
    "            seamEnergy[i, j] += minEnergy\n",
    "    \n",
    "    initialHIndex = 0\n",
    "    actualMin = seamEnergy[rows - 1, 0]\n",
    "    for j in range(1, columns):\n",
    "        if seamEnergy[rows-1, j]<actualMin:\n",
    "            actualMin = seamEnergy[rows-1, j]\n",
    "            initialHIndex = j\n",
    "            \n",
    "\n",
    "    return initialHIndex, backtrack\n",
    "\n",
    "    \n"
   ]
  },
  {
   "cell_type": "code",
   "execution_count": 3,
   "id": "89dc3446",
   "metadata": {},
   "outputs": [
    {
     "name": "stdout",
     "output_type": "stream",
     "text": [
      "Original Photo:\n"
     ]
    },
    {
     "data": {
      "application/vnd.jupyter.widget-view+json": {
       "model_id": "5a5c739e9dfb4466b397e59b718cdb75",
       "version_major": 2,
       "version_minor": 0
      },
      "text/plain": [
       "IntSlider(value=350, description='Horizontal:', max=350, min=87)"
      ]
     },
     "metadata": {},
     "output_type": "display_data"
    },
    {
     "data": {
      "application/vnd.jupyter.widget-view+json": {
       "model_id": "4a06cca931d949609ffb8e310cfe5821",
       "version_major": 2,
       "version_minor": 0
      },
      "text/plain": [
       "Button(description='Horizontal Resize', style=ButtonStyle())"
      ]
     },
     "metadata": {},
     "output_type": "display_data"
    },
    {
     "data": {
      "application/vnd.jupyter.widget-view+json": {
       "model_id": "9846d19d06244ca48cf655dc8778c601",
       "version_major": 2,
       "version_minor": 0
      },
      "text/plain": [
       "IntSlider(value=218, description='Vertical:', max=218, min=54)"
      ]
     },
     "metadata": {},
     "output_type": "display_data"
    },
    {
     "data": {
      "application/vnd.jupyter.widget-view+json": {
       "model_id": "7b59578bacf243eeb261caa9b32f4dc2",
       "version_major": 2,
       "version_minor": 0
      },
      "text/plain": [
       "Button(description='Vertical Resize', style=ButtonStyle())"
      ]
     },
     "metadata": {},
     "output_type": "display_data"
    },
    {
     "name": "stderr",
     "output_type": "stream",
     "text": [
      "Lossy conversion from float32 to uint8. Range [0.0, 7890.0]. Convert image to uint8 prior to saving to suppress this warning.\n"
     ]
    }
   ],
   "source": [
    "import ipywidgets as widgets\n",
    "from ipywidgets import Image\n",
    "from IPython.display import display\n",
    "\n",
    "from imageio import imread, imwrite\n",
    "from scipy.ndimage.filters import convolve\n",
    "from ipywidgets.widgets import Button, IntSlider\n",
    "\n",
    "\n",
    "def computeEnergy(img):\n",
    "    \n",
    "    k = img[0, 0].shape[0]\n",
    "    verticalGradientFilter = np.array([\n",
    "        [1.0, 2.0, 1.0],\n",
    "        [0.0, 0.0, 0.0],\n",
    "        [-1.0, -2.0, -1.0],\n",
    "    ])\n",
    "    verticalGradientFilter = np.stack([verticalGradientFilter] * k, axis=2)\n",
    "    \n",
    "    horizontalGradientFilter = np.array([\n",
    "        [1.0, 0.0, -1.0],\n",
    "        [2.0, 0.0, -2.0],\n",
    "        [1.0, 0.0, -1.0],\n",
    "    ])\n",
    "    horizontalGradientFilter = np.stack([horizontalGradientFilter] * k, axis=2)\n",
    "\n",
    "    img = img.astype('float32')\n",
    "    convolved = np.absolute(convolve(img, verticalGradientFilter)) + np.absolute(convolve(img, horizontalGradientFilter))\n",
    "    pixelsEnergy = convolved.sum(axis=2)\n",
    "\n",
    "    return pixelsEnergy\n",
    "\n",
    "\n",
    "\n",
    "def removeVerticalSeam(img):   \n",
    "    rows = img.shape[0]\n",
    "    columns = img.shape[1]\n",
    "    pixelsEnergy = computeEnergy(img)\n",
    "    j, backtrack = minimumVerticalSeam(img, pixelsEnergy)\n",
    "\n",
    "    mask = np.ones((rows, columns), dtype=bool)\n",
    "\n",
    "    for i in reversed(range(rows)):  #mette false sui pixel da rimuovere\n",
    "        mask[i, j] = False\n",
    "        j = backtrack[i, j]\n",
    "        \n",
    " \n",
    "    k = img[0, 0].shape[0]\n",
    "        \n",
    "    mask = np.stack([mask] * k, axis=2)\n",
    "\n",
    "    img = img[mask].reshape((rows, columns - 1, k))\n",
    "\n",
    "    return img\n",
    "\n",
    "\n",
    "\n",
    "\n",
    "print(\"Original Photo:\")\n",
    "im = imread('in.jpg')\n",
    "horizontal = widgets.IntSlider(min=im.shape[1]/4, max=im.shape[1], value=im.shape[1], description='Horizontal:')\n",
    "display(horizontal)\n",
    "buttonHResize = widgets.Button(description=\"Horizontal Resize\")\n",
    "display(buttonHResize)\n",
    "vertical = widgets.IntSlider(min=im.shape[0]/4, max=im.shape[0], value=im.shape[0], description='Vertical:')\n",
    "display(vertical)\n",
    "buttonVResize = widgets.Button(description=\"Vertical Resize\")\n",
    "display(buttonVResize)\n",
    "grad = computeEnergy(im)\n",
    "\n",
    "imwrite('gradient.jpg', grad)\n",
    "\n",
    "\n",
    "\n",
    "\n",
    "\n",
    "def computeHSeamCarving(b):\n",
    "    img = imread('in.jpg')\n",
    "    columns = img.shape[1]\n",
    "    targetWidth = horizontal.value\n",
    "    for i in reversed(range(columns - targetWidth)):\n",
    "        img = removeVerticalSeam(img)\n",
    "        print( str(i) + \" seams to remove\")\n",
    "    imwrite('output.jpg', img)\n",
    "    \n",
    "    \n",
    "buttonHResize.on_click(computeHSeamCarving)\n",
    "\n",
    "def computeVSeamCarving(b):\n",
    "    img = imread('in.jpg')\n",
    "    rows = img.shape[0]\n",
    "    targetHeight = vertical.value\n",
    "    img = np.rot90(img, 1, (0, 1))\n",
    "    \n",
    "    \n",
    "    for i in reversed(range(rows - targetHeight)):\n",
    "        img = removeVerticalSeam(img)\n",
    "        print( str(i) + \" seams to remove\")\n",
    "    img = np.rot90(img, 3, (0, 1))\n",
    "    imwrite('output.jpg', img)\n",
    "    \n",
    "    \n",
    "buttonVResize.on_click(computeVSeamCarving)\n",
    "\n"
   ]
  },
  {
   "cell_type": "code",
   "execution_count": null,
   "id": "ad6c9665",
   "metadata": {},
   "outputs": [],
   "source": []
  }
 ],
 "metadata": {
  "kernelspec": {
   "display_name": "Python 3 (ipykernel)",
   "language": "python",
   "name": "python3"
  },
  "language_info": {
   "codemirror_mode": {
    "name": "ipython",
    "version": 3
   },
   "file_extension": ".py",
   "mimetype": "text/x-python",
   "name": "python",
   "nbconvert_exporter": "python",
   "pygments_lexer": "ipython3",
   "version": "3.9.7"
  }
 },
 "nbformat": 4,
 "nbformat_minor": 5
}
